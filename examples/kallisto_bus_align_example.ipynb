{
 "cells": [
  {
   "cell_type": "markdown",
   "id": "853cce51-92cb-4ac8-bf77-87e440bbdad2",
   "metadata": {},
   "source": [
    "# Corey WT"
   ]
  },
  {
   "cell_type": "code",
   "execution_count": 3,
   "id": "2c1239dd-7be0-4516-a9e4-81a429dcbc42",
   "metadata": {},
   "outputs": [
    {
     "name": "stdout",
     "output_type": "stream",
     "text": [
      "[2022-09-06 19:24:51,946]    INFO [count] Using index /notebook/External/Archive/Joe/raw_data/kallisto_references/mus_musculus/transcriptome.idx to generate BUS file to /notebook/External/Archive/Joe/raw_data/Corey_thymus/CE_kallisto_alignment/ from\n",
      "[2022-09-06 19:24:51,946]    INFO [count]         /notebook/Backup/Corey_fastqs/CE/CE_S16_L001_R1_001.fastq.gz\n",
      "[2022-09-06 19:24:51,946]    INFO [count]         /notebook/Backup/Corey_fastqs/CE/CE_S16_L001_R2_001.fastq.gz\n",
      "[2022-09-06 19:24:51,946]    INFO [count]         /notebook/Backup/Corey_fastqs/CE/CE_S16_L002_R1_001.fastq.gz\n",
      "[2022-09-06 19:24:51,946]    INFO [count]         /notebook/Backup/Corey_fastqs/CE/CE_S16_L002_R2_001.fastq.gz\n",
      "[2022-09-06 19:24:51,946]    INFO [count]         /notebook/Backup/Corey_fastqs/CE/CE_S16_L003_R1_001.fastq.gz\n",
      "[2022-09-06 19:24:51,946]    INFO [count]         /notebook/Backup/Corey_fastqs/CE/CE_S16_L003_R2_001.fastq.gz\n",
      "[2022-09-06 19:24:51,946]    INFO [count]         /notebook/Backup/Corey_fastqs/CE/CE_S16_L004_R1_001.fastq.gz\n",
      "[2022-09-06 19:24:51,946]    INFO [count]         /notebook/Backup/Corey_fastqs/CE/CE_S16_L004_R2_001.fastq.gz\n",
      "[2022-09-06 19:53:54,701]    INFO [count] Sorting BUS file /notebook/External/Archive/Joe/raw_data/Corey_thymus/CE_kallisto_alignment/output.bus to /notebook/External/Archive/Joe/raw_data/Corey_thymus/CE_kallisto_alignment/tmp/output.s.bus\n",
      "[2022-09-06 19:56:06,425]    INFO [count] Inspecting BUS file /notebook/External/Archive/Joe/raw_data/Corey_thymus/CE_kallisto_alignment/tmp/output.s.bus\n",
      "[2022-09-06 19:56:27,368]    INFO [count] Correcting BUS records in /notebook/External/Archive/Joe/raw_data/Corey_thymus/CE_kallisto_alignment/tmp/output.s.bus to /notebook/External/Archive/Joe/raw_data/Corey_thymus/CE_kallisto_alignment/tmp/output.s.c.bus with whitelist /notebook/External/Archive/Joe/raw_data/kallisto_references/10X_barcode_whitelist_3M_feb_2018.txt\n",
      "[2022-09-06 19:58:07,738]    INFO [count] Sorting BUS file /notebook/External/Archive/Joe/raw_data/Corey_thymus/CE_kallisto_alignment/tmp/output.s.c.bus to /notebook/External/Archive/Joe/raw_data/Corey_thymus/CE_kallisto_alignment/output.unfiltered.bus\n",
      "[2022-09-06 19:59:59,744]    INFO [count] Generating count matrix /notebook/External/Archive/Joe/raw_data/Corey_thymus/CE_kallisto_alignment/counts_unfiltered/cells_x_tcc from BUS file /notebook/External/Archive/Joe/raw_data/Corey_thymus/CE_kallisto_alignment/output.unfiltered.bus\n"
     ]
    }
   ],
   "source": [
    "!kb count \\\n",
    "    --tcc -t 16 -m 32 \\\n",
    "    -w /notebook/External/Archive/Joe/raw_data/kallisto_references/10X_barcode_whitelist_3M_feb_2018.txt \\\n",
    "    -o /notebook/External/Archive/Joe/raw_data/Corey_thymus/CE_kallisto_alignment/ \\\n",
    "    -i /notebook/External/Archive/Joe/raw_data/kallisto_references/mus_musculus/transcriptome.idx \\\n",
    "    -g /notebook/External/Archive/Joe/raw_data/kallisto_references/mus_musculus/transcripts_to_genes.txt \\\n",
    "    -x 10xv3 \\\n",
    "    /notebook/Backup/Corey_fastqs/CE/CE_S16_L001_R1_001.fastq.gz \\\n",
    "    /notebook/Backup/Corey_fastqs/CE/CE_S16_L001_R2_001.fastq.gz \\\n",
    "    /notebook/Backup/Corey_fastqs/CE/CE_S16_L002_R1_001.fastq.gz \\\n",
    "    /notebook/Backup/Corey_fastqs/CE/CE_S16_L002_R2_001.fastq.gz \\\n",
    "    /notebook/Backup/Corey_fastqs/CE/CE_S16_L003_R1_001.fastq.gz \\\n",
    "    /notebook/Backup/Corey_fastqs/CE/CE_S16_L003_R2_001.fastq.gz \\\n",
    "    /notebook/Backup/Corey_fastqs/CE/CE_S16_L004_R1_001.fastq.gz \\\n",
    "    /notebook/Backup/Corey_fastqs/CE/CE_S16_L004_R2_001.fastq.gz"
   ]
  },
  {
   "cell_type": "markdown",
   "id": "75f4b054-9edd-4369-b9a2-cbb7dc0e1071",
   "metadata": {},
   "source": [
    "# Yi WT"
   ]
  },
  {
   "cell_type": "code",
   "execution_count": 4,
   "id": "00a74baa-1d15-41db-a6b7-27e2037ccb18",
   "metadata": {},
   "outputs": [
    {
     "name": "stdout",
     "output_type": "stream",
     "text": [
      "[2022-09-06 20:02:28,178]    INFO [count] Using index /notebook/External/Archive/Joe/raw_data/kallisto_references/mus_musculus/transcriptome.idx to generate BUS file to /notebook/External/Archive/Joe/raw_data/Yi_thymus/WT_kallisto_alignment from\n",
      "[2022-09-06 20:02:28,178]    INFO [count]         /notebook/Backup/Yi_fastqs/WT_KO_fastqs/B6_Aire_WT_S22_L001_R1_001.fastq.gz\n",
      "[2022-09-06 20:02:28,178]    INFO [count]         /notebook/Backup/Yi_fastqs/WT_KO_fastqs/B6_Aire_WT_S22_L001_R2_001.fastq.gz\n",
      "[2022-09-06 20:02:28,178]    INFO [count]         /notebook/Backup/Yi_fastqs/WT_KO_fastqs/B6_Aire_WT_S22_L002_R1_001.fastq.gz\n",
      "[2022-09-06 20:02:28,178]    INFO [count]         /notebook/Backup/Yi_fastqs/WT_KO_fastqs/B6_Aire_WT_S22_L002_R2_001.fastq.gz\n",
      "[2022-09-06 20:02:28,178]    INFO [count]         /notebook/Backup/Yi_fastqs/WT_KO_fastqs/B6_Aire_WT_S22_L003_R1_001.fastq.gz\n",
      "[2022-09-06 20:02:28,178]    INFO [count]         /notebook/Backup/Yi_fastqs/WT_KO_fastqs/B6_Aire_WT_S22_L003_R2_001.fastq.gz\n",
      "[2022-09-06 20:02:28,178]    INFO [count]         /notebook/Backup/Yi_fastqs/WT_KO_fastqs/B6_Aire_WT_S22_L004_R1_001.fastq.gz\n",
      "[2022-09-06 20:02:28,178]    INFO [count]         /notebook/Backup/Yi_fastqs/WT_KO_fastqs/B6_Aire_WT_S22_L004_R2_001.fastq.gz\n",
      "[2022-09-06 20:26:21,966]    INFO [count] Sorting BUS file /notebook/External/Archive/Joe/raw_data/Yi_thymus/WT_kallisto_alignment/output.bus to /notebook/External/Archive/Joe/raw_data/Yi_thymus/WT_kallisto_alignment/tmp/output.s.bus\n",
      "[2022-09-06 20:28:42,836]    INFO [count] Inspecting BUS file /notebook/External/Archive/Joe/raw_data/Yi_thymus/WT_kallisto_alignment/tmp/output.s.bus\n",
      "[2022-09-06 20:29:06,085]    INFO [count] Correcting BUS records in /notebook/External/Archive/Joe/raw_data/Yi_thymus/WT_kallisto_alignment/tmp/output.s.bus to /notebook/External/Archive/Joe/raw_data/Yi_thymus/WT_kallisto_alignment/tmp/output.s.c.bus with whitelist /notebook/External/Archive/Joe/raw_data/kallisto_references/10X_barcode_whitelist_3M_feb_2018.txt\n",
      "[2022-09-06 20:30:49,279]    INFO [count] Sorting BUS file /notebook/External/Archive/Joe/raw_data/Yi_thymus/WT_kallisto_alignment/tmp/output.s.c.bus to /notebook/External/Archive/Joe/raw_data/Yi_thymus/WT_kallisto_alignment/output.unfiltered.bus\n",
      "[2022-09-06 20:32:51,823]    INFO [count] Generating count matrix /notebook/External/Archive/Joe/raw_data/Yi_thymus/WT_kallisto_alignment/counts_unfiltered/cells_x_tcc from BUS file /notebook/External/Archive/Joe/raw_data/Yi_thymus/WT_kallisto_alignment/output.unfiltered.bus\n"
     ]
    }
   ],
   "source": [
    "!kb count \\\n",
    "    --tcc -t 16 -m 32 \\\n",
    "    -w /notebook/External/Archive/Joe/raw_data/kallisto_references/10X_barcode_whitelist_3M_feb_2018.txt \\\n",
    "    -o /notebook/External/Archive/Joe/raw_data/Yi_thymus/WT_kallisto_alignment \\\n",
    "    -i /notebook/External/Archive/Joe/raw_data/kallisto_references/mus_musculus/transcriptome.idx \\\n",
    "    -g /notebook/External/Archive/Joe/raw_data/kallisto_references/mus_musculus/transcripts_to_genes.txt \\\n",
    "    -x 10xv3 \\\n",
    "    /notebook/Backup/Yi_fastqs/WT_KO_fastqs/B6_Aire_WT_S22_L001_R1_001.fastq.gz \\\n",
    "    /notebook/Backup/Yi_fastqs/WT_KO_fastqs/B6_Aire_WT_S22_L001_R2_001.fastq.gz \\\n",
    "    /notebook/Backup/Yi_fastqs/WT_KO_fastqs/B6_Aire_WT_S22_L002_R1_001.fastq.gz \\\n",
    "    /notebook/Backup/Yi_fastqs/WT_KO_fastqs/B6_Aire_WT_S22_L002_R2_001.fastq.gz \\\n",
    "    /notebook/Backup/Yi_fastqs/WT_KO_fastqs/B6_Aire_WT_S22_L003_R1_001.fastq.gz \\\n",
    "    /notebook/Backup/Yi_fastqs/WT_KO_fastqs/B6_Aire_WT_S22_L003_R2_001.fastq.gz \\\n",
    "    /notebook/Backup/Yi_fastqs/WT_KO_fastqs/B6_Aire_WT_S22_L004_R1_001.fastq.gz \\\n",
    "    /notebook/Backup/Yi_fastqs/WT_KO_fastqs/B6_Aire_WT_S22_L004_R2_001.fastq.gz"
   ]
  },
  {
   "cell_type": "markdown",
   "id": "ab399b14-edae-4382-ae70-347a3810ee45",
   "metadata": {},
   "source": [
    "# Yi KO"
   ]
  },
  {
   "cell_type": "code",
   "execution_count": 5,
   "id": "9ca36f80-93a6-4429-b016-51b1932f5709",
   "metadata": {},
   "outputs": [
    {
     "name": "stdout",
     "output_type": "stream",
     "text": [
      "[2022-09-06 20:35:25,990]    INFO [count] Using index /notebook/External/Archive/Joe/raw_data/kallisto_references/mus_musculus/transcriptome.idx to generate BUS file to /notebook/External/Archive/Joe/raw_data/Yi_thymus/KO_kallisto_alignment from\n",
      "[2022-09-06 20:35:25,990]    INFO [count]         /notebook/Backup/Yi_fastqs/WT_KO_fastqs/B6_Aire_KO_S23_L001_R1_001.fastq.gz\n",
      "[2022-09-06 20:35:25,990]    INFO [count]         /notebook/Backup/Yi_fastqs/WT_KO_fastqs/B6_Aire_KO_S23_L001_R2_001.fastq.gz\n",
      "[2022-09-06 20:35:25,990]    INFO [count]         /notebook/Backup/Yi_fastqs/WT_KO_fastqs/B6_Aire_KO_S23_L002_R1_001.fastq.gz\n",
      "[2022-09-06 20:35:25,990]    INFO [count]         /notebook/Backup/Yi_fastqs/WT_KO_fastqs/B6_Aire_KO_S23_L002_R2_001.fastq.gz\n",
      "[2022-09-06 20:35:25,990]    INFO [count]         /notebook/Backup/Yi_fastqs/WT_KO_fastqs/B6_Aire_KO_S23_L003_R1_001.fastq.gz\n",
      "[2022-09-06 20:35:25,990]    INFO [count]         /notebook/Backup/Yi_fastqs/WT_KO_fastqs/B6_Aire_KO_S23_L003_R2_001.fastq.gz\n",
      "[2022-09-06 20:35:25,990]    INFO [count]         /notebook/Backup/Yi_fastqs/WT_KO_fastqs/B6_Aire_KO_S23_L004_R1_001.fastq.gz\n",
      "[2022-09-06 20:35:25,990]    INFO [count]         /notebook/Backup/Yi_fastqs/WT_KO_fastqs/B6_Aire_KO_S23_L004_R2_001.fastq.gz\n",
      "[2022-09-06 20:52:40,716]    INFO [count] Sorting BUS file /notebook/External/Archive/Joe/raw_data/Yi_thymus/KO_kallisto_alignment/output.bus to /notebook/External/Archive/Joe/raw_data/Yi_thymus/KO_kallisto_alignment/tmp/output.s.bus\n",
      "[2022-09-06 20:55:00,080]    INFO [count] Inspecting BUS file /notebook/External/Archive/Joe/raw_data/Yi_thymus/KO_kallisto_alignment/tmp/output.s.bus\n",
      "[2022-09-06 20:55:22,727]    INFO [count] Correcting BUS records in /notebook/External/Archive/Joe/raw_data/Yi_thymus/KO_kallisto_alignment/tmp/output.s.bus to /notebook/External/Archive/Joe/raw_data/Yi_thymus/KO_kallisto_alignment/tmp/output.s.c.bus with whitelist /notebook/External/Archive/Joe/raw_data/kallisto_references/10X_barcode_whitelist_3M_feb_2018.txt\n",
      "[2022-09-06 20:57:12,432]    INFO [count] Sorting BUS file /notebook/External/Archive/Joe/raw_data/Yi_thymus/KO_kallisto_alignment/tmp/output.s.c.bus to /notebook/External/Archive/Joe/raw_data/Yi_thymus/KO_kallisto_alignment/output.unfiltered.bus\n",
      "[2022-09-06 20:59:15,365]    INFO [count] Generating count matrix /notebook/External/Archive/Joe/raw_data/Yi_thymus/KO_kallisto_alignment/counts_unfiltered/cells_x_tcc from BUS file /notebook/External/Archive/Joe/raw_data/Yi_thymus/KO_kallisto_alignment/output.unfiltered.bus\n"
     ]
    }
   ],
   "source": [
    "!kb count \\\n",
    "    --tcc -t 16 -m 32 \\\n",
    "    -w /notebook/External/Archive/Joe/raw_data/kallisto_references/10X_barcode_whitelist_3M_feb_2018.txt \\\n",
    "    -o /notebook/External/Archive/Joe/raw_data/Yi_thymus/KO_kallisto_alignment \\\n",
    "    -i /notebook/External/Archive/Joe/raw_data/kallisto_references/mus_musculus/transcriptome.idx \\\n",
    "    -g /notebook/External/Archive/Joe/raw_data/kallisto_references/mus_musculus/transcripts_to_genes.txt \\\n",
    "    -x 10xv3 \\\n",
    "    /notebook/Backup/Yi_fastqs/WT_KO_fastqs/B6_Aire_KO_S23_L001_R1_001.fastq.gz \\\n",
    "    /notebook/Backup/Yi_fastqs/WT_KO_fastqs/B6_Aire_KO_S23_L001_R2_001.fastq.gz \\\n",
    "    /notebook/Backup/Yi_fastqs/WT_KO_fastqs/B6_Aire_KO_S23_L002_R1_001.fastq.gz \\\n",
    "    /notebook/Backup/Yi_fastqs/WT_KO_fastqs/B6_Aire_KO_S23_L002_R2_001.fastq.gz \\\n",
    "    /notebook/Backup/Yi_fastqs/WT_KO_fastqs/B6_Aire_KO_S23_L003_R1_001.fastq.gz \\\n",
    "    /notebook/Backup/Yi_fastqs/WT_KO_fastqs/B6_Aire_KO_S23_L003_R2_001.fastq.gz \\\n",
    "    /notebook/Backup/Yi_fastqs/WT_KO_fastqs/B6_Aire_KO_S23_L004_R1_001.fastq.gz \\\n",
    "    /notebook/Backup/Yi_fastqs/WT_KO_fastqs/B6_Aire_KO_S23_L004_R2_001.fastq.gz"
   ]
  },
  {
   "cell_type": "code",
   "execution_count": null,
   "id": "708c0934-f8ae-4619-99ca-c77955b581e0",
   "metadata": {},
   "outputs": [],
   "source": []
  }
 ],
 "metadata": {
  "kernelspec": {
   "display_name": "Python 3 (ipykernel)",
   "language": "python",
   "name": "python3"
  },
  "language_info": {
   "codemirror_mode": {
    "name": "ipython",
    "version": 3
   },
   "file_extension": ".py",
   "mimetype": "text/x-python",
   "name": "python",
   "nbconvert_exporter": "python",
   "pygments_lexer": "ipython3",
   "version": "3.10.6"
  }
 },
 "nbformat": 4,
 "nbformat_minor": 5
}
